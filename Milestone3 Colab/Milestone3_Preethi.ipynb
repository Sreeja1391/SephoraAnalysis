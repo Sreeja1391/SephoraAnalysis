{
  "cells": [
    {
      "cell_type": "code",
      "execution_count": 28,
      "metadata": {
        "colab": {
          "base_uri": "https://localhost:8080/"
        },
        "id": "Jtrpu4c0bDrz",
        "outputId": "f1401cec-5646-468c-f625-116a0c5bb12f"
      },
      "outputs": [
        {
          "output_type": "stream",
          "name": "stdout",
          "text": [
            "Drive already mounted at /content/drive; to attempt to forcibly remount, call drive.mount(\"/content/drive\", force_remount=True).\n"
          ]
        }
      ],
      "source": [
        "from google.colab import drive\n",
        "drive.mount('/content/drive')"
      ]
    },
    {
      "cell_type": "code",
      "execution_count": 29,
      "metadata": {
        "id": "0JJdLEEsbcvq"
      },
      "outputs": [],
      "source": [
        "import pandas as pd\n",
        "\n",
        "# Load product information data\n",
        "product_info_path = '/content/drive/MyDrive/INFOSYS723/Project/product_info.csv'\n",
        "product_info_df = pd.read_csv(product_info_path)"
      ]
    },
    {
      "cell_type": "code",
      "execution_count": 30,
      "metadata": {
        "id": "3qabVxXCfoV1"
      },
      "outputs": [],
      "source": [
        "review_files = [\n",
        "    '/content/drive/MyDrive/INFOSYS723/Project/reviews_0-250.csv'\n",
        "]"
      ]
    },
    {
      "cell_type": "code",
      "execution_count": 31,
      "metadata": {
        "colab": {
          "base_uri": "https://localhost:8080/"
        },
        "id": "ideYSXse_GAK",
        "outputId": "85384d0d-42ed-460b-dbdb-c3b0d57de2a9"
      },
      "outputs": [
        {
          "output_type": "stream",
          "name": "stderr",
          "text": [
            "<ipython-input-31-07092264ab93>:1: DtypeWarning: Columns (1) have mixed types. Specify dtype option on import or set low_memory=False.\n",
            "  reviews = pd.concat([pd.read_csv(f) for f in review_files], ignore_index=True)\n"
          ]
        }
      ],
      "source": [
        "reviews = pd.concat([pd.read_csv(f) for f in review_files], ignore_index=True)"
      ]
    },
    {
      "cell_type": "code",
      "execution_count": 32,
      "metadata": {
        "id": "4tLaf91V2N9j"
      },
      "outputs": [],
      "source": [
        "reviews.drop_duplicates(inplace=True)"
      ]
    },
    {
      "cell_type": "code",
      "execution_count": 33,
      "metadata": {
        "id": "fL-O3oc821RF"
      },
      "outputs": [],
      "source": [
        "reviews.dropna(inplace=True)"
      ]
    },
    {
      "cell_type": "code",
      "execution_count": 34,
      "metadata": {
        "id": "MjOvXEBa25wJ"
      },
      "outputs": [],
      "source": [
        "reviews['submission_time'] = pd.to_datetime(reviews['submission_time'])"
      ]
    },
    {
      "cell_type": "code",
      "execution_count": 35,
      "metadata": {
        "id": "ES70l9L42_ES"
      },
      "outputs": [],
      "source": [
        "reviews['skin_type'] = reviews['skin_type'].replace({'dryy': 'dry', 'oilyy': 'oily'})"
      ]
    },
    {
      "cell_type": "code",
      "execution_count": 36,
      "metadata": {
        "id": "LetR-XH83CFh"
      },
      "outputs": [],
      "source": [
        "reviews.drop_duplicates(inplace=True)"
      ]
    },
    {
      "cell_type": "code",
      "execution_count": 37,
      "metadata": {
        "id": "gIfriZKV3FdE"
      },
      "outputs": [],
      "source": [
        "reviews.drop(columns=['Unnamed: 0'], inplace=True)"
      ]
    },
    {
      "cell_type": "code",
      "execution_count": 38,
      "metadata": {
        "id": "tpTTLVzH3H1d"
      },
      "outputs": [],
      "source": [
        "Q1 = reviews['price_usd'].quantile(0.25)\n",
        "Q3 = reviews['price_usd'].quantile(0.75)\n",
        "IQR = Q3 - Q1\n",
        "\n",
        "lower_bound = Q1 - 1.5 * IQR\n",
        "upper_bound = Q3 + 1.5 * IQR\n",
        "\n",
        "reviews = reviews[(reviews['price_usd'] >= lower_bound) & (reviews['price_usd'] <= upper_bound)]"
      ]
    },
    {
      "cell_type": "code",
      "execution_count": 39,
      "metadata": {
        "colab": {
          "base_uri": "https://localhost:8080/"
        },
        "id": "TNn2Vtdd3KWz",
        "outputId": "d1fccec0-07bd-444c-ace7-9821aca035e7"
      },
      "outputs": [
        {
          "output_type": "stream",
          "name": "stdout",
          "text": [
            "<class 'pandas.core.frame.DataFrame'>\n",
            "Index: 140331 entries, 5 to 602129\n",
            "Data columns (total 18 columns):\n",
            " #   Column                    Non-Null Count   Dtype         \n",
            "---  ------                    --------------   -----         \n",
            " 0   author_id                 140331 non-null  object        \n",
            " 1   rating                    140331 non-null  int64         \n",
            " 2   is_recommended            140331 non-null  float64       \n",
            " 3   helpfulness               140331 non-null  float64       \n",
            " 4   total_feedback_count      140331 non-null  int64         \n",
            " 5   total_neg_feedback_count  140331 non-null  int64         \n",
            " 6   total_pos_feedback_count  140331 non-null  int64         \n",
            " 7   submission_time           140331 non-null  datetime64[ns]\n",
            " 8   review_text               140331 non-null  object        \n",
            " 9   review_title              140331 non-null  object        \n",
            " 10  skin_tone                 140331 non-null  object        \n",
            " 11  eye_color                 140331 non-null  object        \n",
            " 12  skin_type                 140331 non-null  object        \n",
            " 13  hair_color                140331 non-null  object        \n",
            " 14  product_id                140331 non-null  object        \n",
            " 15  product_name              140331 non-null  object        \n",
            " 16  brand_name                140331 non-null  object        \n",
            " 17  price_usd                 140331 non-null  float64       \n",
            "dtypes: datetime64[ns](1), float64(3), int64(4), object(10)\n",
            "memory usage: 20.3+ MB\n"
          ]
        }
      ],
      "source": [
        "reviews.info()"
      ]
    },
    {
      "cell_type": "code",
      "execution_count": 40,
      "metadata": {
        "colab": {
          "base_uri": "https://localhost:8080/"
        },
        "id": "8doKlv1A3O4E",
        "outputId": "f6407974-55de-458c-8540-0e05d7ef49de"
      },
      "outputs": [
        {
          "output_type": "execute_result",
          "data": {
            "text/plain": [
              "5         The scent isn’t my favourite but it works grea...\n",
              "6         I’ll give this 2 stars for nice packaging and ...\n",
              "8         I love this stuff. I first had the sample size...\n",
              "9         I purchased the Sweet Candy scent at my local ...\n",
              "21        Just like  Aquaphor just get something cheaper...\n",
              "                                ...                        \n",
              "602124    I have been using this product for over eight ...\n",
              "602125    I can’t say enough great things about this pro...\n",
              "602126    I have been using this product for over 6 week...\n",
              "602127    I love the Triple Algae Eye Renewal Balm! Once...\n",
              "602129    So rich & creamy, yet not greasy . . .  It rea...\n",
              "Name: review_text, Length: 140331, dtype: object"
            ]
          },
          "metadata": {},
          "execution_count": 40
        }
      ],
      "source": [
        "reviews['review_text']"
      ]
    },
    {
      "cell_type": "code",
      "execution_count": 41,
      "metadata": {
        "colab": {
          "base_uri": "https://localhost:8080/"
        },
        "id": "vfPqy3lO3Rcc",
        "outputId": "42f7e5e4-1e09-4076-e2cc-e81fce7c28cb"
      },
      "outputs": [
        {
          "output_type": "stream",
          "name": "stderr",
          "text": [
            "[nltk_data] Downloading package punkt to /root/nltk_data...\n",
            "[nltk_data]   Package punkt is already up-to-date!\n",
            "[nltk_data] Downloading package stopwords to /root/nltk_data...\n",
            "[nltk_data]   Package stopwords is already up-to-date!\n",
            "[nltk_data] Downloading package wordnet to /root/nltk_data...\n",
            "[nltk_data]   Package wordnet is already up-to-date!\n"
          ]
        },
        {
          "output_type": "execute_result",
          "data": {
            "text/plain": [
              "True"
            ]
          },
          "metadata": {},
          "execution_count": 41
        }
      ],
      "source": [
        "import nltk\n",
        "import re\n",
        "\n",
        "nltk.download('punkt')\n",
        "nltk.download('stopwords')\n",
        "nltk.download('wordnet')"
      ]
    },
    {
      "cell_type": "code",
      "execution_count": 42,
      "metadata": {
        "id": "XVlNbj-O3Wjc"
      },
      "outputs": [],
      "source": [
        "from nltk.corpus import stopwords\n",
        "from nltk.tokenize import word_tokenize\n",
        "from nltk.stem import WordNetLemmatizer\n",
        "\n",
        "# Lowercasing, Removing punctuation, Tokenization, Removing stopwords,Lemmatization, Removing numbers, Handling contractions, Removing extra whitespaces\n",
        "\n",
        "def preprocess_text(text):\n",
        "    text = text.lower()\n",
        "    text = re.sub(r'[^\\w\\s]', '', text)\n",
        "    tokens = word_tokenize(text)\n",
        "    stop_words = set(stopwords.words('english'))\n",
        "    tokens = [word for word in tokens if word not in stop_words]\n",
        "    lemmatizer = WordNetLemmatizer()\n",
        "    tokens = [lemmatizer.lemmatize(word) for word in tokens]\n",
        "    tokens = [word for word in tokens if not word.isdigit()]\n",
        "\n",
        "    # Handling contractions\n",
        "    contractions = {\n",
        "        \"isn't\": \"is not\",\n",
        "        \"aren't\": \"are not\",\n",
        "        \"can't\": \"cannot\",\n",
        "        \"couldn't\": \"could not\",\n",
        "        \"didn't\": \"did not\",\n",
        "        \"doesn't\": \"does not\",\n",
        "        \"don't\": \"do not\",\n",
        "        \"hadn't\": \"had not\",\n",
        "        \"hasn't\": \"has not\",\n",
        "        \"haven't\": \"have not\",\n",
        "        \"he'd\": \"he would\",\n",
        "        \"he'll\": \"he will\",\n",
        "        \"he's\": \"he is\",\n",
        "        \"i'd\": \"I would\",\n",
        "        \"i'll\": \"I will\",\n",
        "        \"i'm\": \"I am\",\n",
        "        \"i've\": \"I have\",\n",
        "        \"isn't\": \"is not\",\n",
        "        \"it's\": \"it is\",\n",
        "        \"let's\": \"let us\",\n",
        "        \"mustn't\": \"must not\",\n",
        "        \"shan't\": \"shall not\",\n",
        "        \"she'd\": \"she would\",\n",
        "        \"she'll\": \"she will\",\n",
        "        \"she's\": \"she is\",\n",
        "        \"shouldn't\": \"should not\",\n",
        "        \"that's\": \"that is\",\n",
        "        \"there's\": \"there is\",\n",
        "        \"they'd\": \"they would\",\n",
        "        \"they'll\": \"they will\",\n",
        "        \"they're\": \"they are\",\n",
        "        \"they've\": \"they have\",\n",
        "        \"we'd\": \"we would\",\n",
        "        \"we're\": \"we are\",\n",
        "        \"we've\": \"we have\",\n",
        "        \"weren't\": \"were not\",\n",
        "        \"what'll\": \"what will\",\n",
        "        \"what're\": \"what are\",\n",
        "        \"what's\": \"what is\",\n",
        "        \"what've\": \"what have\",\n",
        "        \"where's\": \"where is\",\n",
        "        \"who'd\": \"who would\",\n",
        "        \"who'll\": \"who will\",\n",
        "        \"who're\": \"who are\",\n",
        "        \"who's\": \"who is\",\n",
        "        \"who've\": \"who have\",\n",
        "        \"won't\": \"will not\",\n",
        "        \"wouldn't\": \"would not\",\n",
        "        \"you'd\": \"you would\",\n",
        "        \"you'll\": \"you will\",\n",
        "        \"you're\": \"you are\",\n",
        "        \"you've\": \"you have\"\n",
        "    }\n",
        "    tokens = [contractions[word] if word in contractions else word for word in tokens]\n",
        "\n",
        "    # Removing extra whitespaces\n",
        "    tokens = [word.strip() for word in tokens if word.strip()]\n",
        "\n",
        "    # Joining tokens back into a string\n",
        "    preprocessed_text = ' '.join(tokens)\n",
        "\n",
        "    return preprocessed_text\n",
        "\n",
        "\n",
        "    # Removing HTML tags and URLs: NOT REQUIRED EXAMPLE\n",
        "    #tokens = [re.sub(r'<[^>]+>', '', word) for word in tokens]\n",
        "    #tokens = [re.sub(r'http\\S+', '', word) for word in tokens]"
      ]
    },
    {
      "cell_type": "code",
      "execution_count": 43,
      "metadata": {
        "id": "yZPR32pS3Zzi"
      },
      "outputs": [],
      "source": [
        "reviews['sentiment'] = reviews['rating'].apply(lambda x: 'positive' if x in [4, 5] else 'negative')"
      ]
    },
    {
      "cell_type": "code",
      "execution_count": 44,
      "metadata": {
        "colab": {
          "base_uri": "https://localhost:8080/",
          "height": 538
        },
        "id": "UztKCn4Y3cIa",
        "outputId": "bb2be146-9858-42d4-893a-d6f01611dcbf"
      },
      "outputs": [
        {
          "output_type": "execute_result",
          "data": {
            "text/plain": [
              "      author_id  rating  is_recommended  helpfulness  total_feedback_count  \\\n",
              "5   42802569154       4             1.0     1.000000                     1   \n",
              "6    6941883808       2             0.0     0.250000                     8   \n",
              "8    7656791726       5             1.0     1.000000                     1   \n",
              "9   38727834382       5             1.0     1.000000                     2   \n",
              "21  46007186639       1             0.0     0.727273                    11   \n",
              "\n",
              "    total_neg_feedback_count  total_pos_feedback_count submission_time  \\\n",
              "5                          0                         1      2023-03-19   \n",
              "6                          6                         2      2023-03-19   \n",
              "8                          0                         1      2023-03-18   \n",
              "9                          0                         2      2023-03-18   \n",
              "21                         3                         8      2023-03-14   \n",
              "\n",
              "                                          review_text  \\\n",
              "5   The scent isn’t my favourite but it works grea...   \n",
              "6   I’ll give this 2 stars for nice packaging and ...   \n",
              "8   I love this stuff. I first had the sample size...   \n",
              "9   I purchased the Sweet Candy scent at my local ...   \n",
              "21  Just like  Aquaphor just get something cheaper...   \n",
              "\n",
              "                              review_title    skin_tone eye_color  \\\n",
              "5                                   Great!  lightMedium     brown   \n",
              "6   Dried my lips out and clogged my pores        light      blue   \n",
              "8                               Must have.        light      blue   \n",
              "9                          RUN TO PURCHASE        light     brown   \n",
              "21                              Overrated!         fair      blue   \n",
              "\n",
              "      skin_type hair_color product_id  \\\n",
              "5        normal      brown    P420652   \n",
              "6   combination      brown    P420652   \n",
              "8        normal     blonde    P420652   \n",
              "9        normal      brown    P420652   \n",
              "21       normal     blonde    P420652   \n",
              "\n",
              "                                         product_name brand_name  price_usd  \\\n",
              "5   Lip Sleeping Mask Intense Hydration with Vitam...    LANEIGE       24.0   \n",
              "6   Lip Sleeping Mask Intense Hydration with Vitam...    LANEIGE       24.0   \n",
              "8   Lip Sleeping Mask Intense Hydration with Vitam...    LANEIGE       24.0   \n",
              "9   Lip Sleeping Mask Intense Hydration with Vitam...    LANEIGE       24.0   \n",
              "21  Lip Sleeping Mask Intense Hydration with Vitam...    LANEIGE       24.0   \n",
              "\n",
              "   sentiment  \n",
              "5   positive  \n",
              "6   negative  \n",
              "8   positive  \n",
              "9   positive  \n",
              "21  negative  "
            ],
            "text/html": [
              "\n",
              "  <div id=\"df-7ff1fe44-691e-4c9c-b944-0d6eb1ec1f52\" class=\"colab-df-container\">\n",
              "    <div>\n",
              "<style scoped>\n",
              "    .dataframe tbody tr th:only-of-type {\n",
              "        vertical-align: middle;\n",
              "    }\n",
              "\n",
              "    .dataframe tbody tr th {\n",
              "        vertical-align: top;\n",
              "    }\n",
              "\n",
              "    .dataframe thead th {\n",
              "        text-align: right;\n",
              "    }\n",
              "</style>\n",
              "<table border=\"1\" class=\"dataframe\">\n",
              "  <thead>\n",
              "    <tr style=\"text-align: right;\">\n",
              "      <th></th>\n",
              "      <th>author_id</th>\n",
              "      <th>rating</th>\n",
              "      <th>is_recommended</th>\n",
              "      <th>helpfulness</th>\n",
              "      <th>total_feedback_count</th>\n",
              "      <th>total_neg_feedback_count</th>\n",
              "      <th>total_pos_feedback_count</th>\n",
              "      <th>submission_time</th>\n",
              "      <th>review_text</th>\n",
              "      <th>review_title</th>\n",
              "      <th>skin_tone</th>\n",
              "      <th>eye_color</th>\n",
              "      <th>skin_type</th>\n",
              "      <th>hair_color</th>\n",
              "      <th>product_id</th>\n",
              "      <th>product_name</th>\n",
              "      <th>brand_name</th>\n",
              "      <th>price_usd</th>\n",
              "      <th>sentiment</th>\n",
              "    </tr>\n",
              "  </thead>\n",
              "  <tbody>\n",
              "    <tr>\n",
              "      <th>5</th>\n",
              "      <td>42802569154</td>\n",
              "      <td>4</td>\n",
              "      <td>1.0</td>\n",
              "      <td>1.000000</td>\n",
              "      <td>1</td>\n",
              "      <td>0</td>\n",
              "      <td>1</td>\n",
              "      <td>2023-03-19</td>\n",
              "      <td>The scent isn’t my favourite but it works grea...</td>\n",
              "      <td>Great!</td>\n",
              "      <td>lightMedium</td>\n",
              "      <td>brown</td>\n",
              "      <td>normal</td>\n",
              "      <td>brown</td>\n",
              "      <td>P420652</td>\n",
              "      <td>Lip Sleeping Mask Intense Hydration with Vitam...</td>\n",
              "      <td>LANEIGE</td>\n",
              "      <td>24.0</td>\n",
              "      <td>positive</td>\n",
              "    </tr>\n",
              "    <tr>\n",
              "      <th>6</th>\n",
              "      <td>6941883808</td>\n",
              "      <td>2</td>\n",
              "      <td>0.0</td>\n",
              "      <td>0.250000</td>\n",
              "      <td>8</td>\n",
              "      <td>6</td>\n",
              "      <td>2</td>\n",
              "      <td>2023-03-19</td>\n",
              "      <td>I’ll give this 2 stars for nice packaging and ...</td>\n",
              "      <td>Dried my lips out and clogged my pores</td>\n",
              "      <td>light</td>\n",
              "      <td>blue</td>\n",
              "      <td>combination</td>\n",
              "      <td>brown</td>\n",
              "      <td>P420652</td>\n",
              "      <td>Lip Sleeping Mask Intense Hydration with Vitam...</td>\n",
              "      <td>LANEIGE</td>\n",
              "      <td>24.0</td>\n",
              "      <td>negative</td>\n",
              "    </tr>\n",
              "    <tr>\n",
              "      <th>8</th>\n",
              "      <td>7656791726</td>\n",
              "      <td>5</td>\n",
              "      <td>1.0</td>\n",
              "      <td>1.000000</td>\n",
              "      <td>1</td>\n",
              "      <td>0</td>\n",
              "      <td>1</td>\n",
              "      <td>2023-03-18</td>\n",
              "      <td>I love this stuff. I first had the sample size...</td>\n",
              "      <td>Must have.</td>\n",
              "      <td>light</td>\n",
              "      <td>blue</td>\n",
              "      <td>normal</td>\n",
              "      <td>blonde</td>\n",
              "      <td>P420652</td>\n",
              "      <td>Lip Sleeping Mask Intense Hydration with Vitam...</td>\n",
              "      <td>LANEIGE</td>\n",
              "      <td>24.0</td>\n",
              "      <td>positive</td>\n",
              "    </tr>\n",
              "    <tr>\n",
              "      <th>9</th>\n",
              "      <td>38727834382</td>\n",
              "      <td>5</td>\n",
              "      <td>1.0</td>\n",
              "      <td>1.000000</td>\n",
              "      <td>2</td>\n",
              "      <td>0</td>\n",
              "      <td>2</td>\n",
              "      <td>2023-03-18</td>\n",
              "      <td>I purchased the Sweet Candy scent at my local ...</td>\n",
              "      <td>RUN TO PURCHASE</td>\n",
              "      <td>light</td>\n",
              "      <td>brown</td>\n",
              "      <td>normal</td>\n",
              "      <td>brown</td>\n",
              "      <td>P420652</td>\n",
              "      <td>Lip Sleeping Mask Intense Hydration with Vitam...</td>\n",
              "      <td>LANEIGE</td>\n",
              "      <td>24.0</td>\n",
              "      <td>positive</td>\n",
              "    </tr>\n",
              "    <tr>\n",
              "      <th>21</th>\n",
              "      <td>46007186639</td>\n",
              "      <td>1</td>\n",
              "      <td>0.0</td>\n",
              "      <td>0.727273</td>\n",
              "      <td>11</td>\n",
              "      <td>3</td>\n",
              "      <td>8</td>\n",
              "      <td>2023-03-14</td>\n",
              "      <td>Just like  Aquaphor just get something cheaper...</td>\n",
              "      <td>Overrated!</td>\n",
              "      <td>fair</td>\n",
              "      <td>blue</td>\n",
              "      <td>normal</td>\n",
              "      <td>blonde</td>\n",
              "      <td>P420652</td>\n",
              "      <td>Lip Sleeping Mask Intense Hydration with Vitam...</td>\n",
              "      <td>LANEIGE</td>\n",
              "      <td>24.0</td>\n",
              "      <td>negative</td>\n",
              "    </tr>\n",
              "  </tbody>\n",
              "</table>\n",
              "</div>\n",
              "    <div class=\"colab-df-buttons\">\n",
              "\n",
              "  <div class=\"colab-df-container\">\n",
              "    <button class=\"colab-df-convert\" onclick=\"convertToInteractive('df-7ff1fe44-691e-4c9c-b944-0d6eb1ec1f52')\"\n",
              "            title=\"Convert this dataframe to an interactive table.\"\n",
              "            style=\"display:none;\">\n",
              "\n",
              "  <svg xmlns=\"http://www.w3.org/2000/svg\" height=\"24px\" viewBox=\"0 -960 960 960\">\n",
              "    <path d=\"M120-120v-720h720v720H120Zm60-500h600v-160H180v160Zm220 220h160v-160H400v160Zm0 220h160v-160H400v160ZM180-400h160v-160H180v160Zm440 0h160v-160H620v160ZM180-180h160v-160H180v160Zm440 0h160v-160H620v160Z\"/>\n",
              "  </svg>\n",
              "    </button>\n",
              "\n",
              "  <style>\n",
              "    .colab-df-container {\n",
              "      display:flex;\n",
              "      gap: 12px;\n",
              "    }\n",
              "\n",
              "    .colab-df-convert {\n",
              "      background-color: #E8F0FE;\n",
              "      border: none;\n",
              "      border-radius: 50%;\n",
              "      cursor: pointer;\n",
              "      display: none;\n",
              "      fill: #1967D2;\n",
              "      height: 32px;\n",
              "      padding: 0 0 0 0;\n",
              "      width: 32px;\n",
              "    }\n",
              "\n",
              "    .colab-df-convert:hover {\n",
              "      background-color: #E2EBFA;\n",
              "      box-shadow: 0px 1px 2px rgba(60, 64, 67, 0.3), 0px 1px 3px 1px rgba(60, 64, 67, 0.15);\n",
              "      fill: #174EA6;\n",
              "    }\n",
              "\n",
              "    .colab-df-buttons div {\n",
              "      margin-bottom: 4px;\n",
              "    }\n",
              "\n",
              "    [theme=dark] .colab-df-convert {\n",
              "      background-color: #3B4455;\n",
              "      fill: #D2E3FC;\n",
              "    }\n",
              "\n",
              "    [theme=dark] .colab-df-convert:hover {\n",
              "      background-color: #434B5C;\n",
              "      box-shadow: 0px 1px 3px 1px rgba(0, 0, 0, 0.15);\n",
              "      filter: drop-shadow(0px 1px 2px rgba(0, 0, 0, 0.3));\n",
              "      fill: #FFFFFF;\n",
              "    }\n",
              "  </style>\n",
              "\n",
              "    <script>\n",
              "      const buttonEl =\n",
              "        document.querySelector('#df-7ff1fe44-691e-4c9c-b944-0d6eb1ec1f52 button.colab-df-convert');\n",
              "      buttonEl.style.display =\n",
              "        google.colab.kernel.accessAllowed ? 'block' : 'none';\n",
              "\n",
              "      async function convertToInteractive(key) {\n",
              "        const element = document.querySelector('#df-7ff1fe44-691e-4c9c-b944-0d6eb1ec1f52');\n",
              "        const dataTable =\n",
              "          await google.colab.kernel.invokeFunction('convertToInteractive',\n",
              "                                                    [key], {});\n",
              "        if (!dataTable) return;\n",
              "\n",
              "        const docLinkHtml = 'Like what you see? Visit the ' +\n",
              "          '<a target=\"_blank\" href=https://colab.research.google.com/notebooks/data_table.ipynb>data table notebook</a>'\n",
              "          + ' to learn more about interactive tables.';\n",
              "        element.innerHTML = '';\n",
              "        dataTable['output_type'] = 'display_data';\n",
              "        await google.colab.output.renderOutput(dataTable, element);\n",
              "        const docLink = document.createElement('div');\n",
              "        docLink.innerHTML = docLinkHtml;\n",
              "        element.appendChild(docLink);\n",
              "      }\n",
              "    </script>\n",
              "  </div>\n",
              "\n",
              "\n",
              "<div id=\"df-72a26c56-7fee-40f9-bb0a-8a49b5301bd1\">\n",
              "  <button class=\"colab-df-quickchart\" onclick=\"quickchart('df-72a26c56-7fee-40f9-bb0a-8a49b5301bd1')\"\n",
              "            title=\"Suggest charts\"\n",
              "            style=\"display:none;\">\n",
              "\n",
              "<svg xmlns=\"http://www.w3.org/2000/svg\" height=\"24px\"viewBox=\"0 0 24 24\"\n",
              "     width=\"24px\">\n",
              "    <g>\n",
              "        <path d=\"M19 3H5c-1.1 0-2 .9-2 2v14c0 1.1.9 2 2 2h14c1.1 0 2-.9 2-2V5c0-1.1-.9-2-2-2zM9 17H7v-7h2v7zm4 0h-2V7h2v10zm4 0h-2v-4h2v4z\"/>\n",
              "    </g>\n",
              "</svg>\n",
              "  </button>\n",
              "\n",
              "<style>\n",
              "  .colab-df-quickchart {\n",
              "      --bg-color: #E8F0FE;\n",
              "      --fill-color: #1967D2;\n",
              "      --hover-bg-color: #E2EBFA;\n",
              "      --hover-fill-color: #174EA6;\n",
              "      --disabled-fill-color: #AAA;\n",
              "      --disabled-bg-color: #DDD;\n",
              "  }\n",
              "\n",
              "  [theme=dark] .colab-df-quickchart {\n",
              "      --bg-color: #3B4455;\n",
              "      --fill-color: #D2E3FC;\n",
              "      --hover-bg-color: #434B5C;\n",
              "      --hover-fill-color: #FFFFFF;\n",
              "      --disabled-bg-color: #3B4455;\n",
              "      --disabled-fill-color: #666;\n",
              "  }\n",
              "\n",
              "  .colab-df-quickchart {\n",
              "    background-color: var(--bg-color);\n",
              "    border: none;\n",
              "    border-radius: 50%;\n",
              "    cursor: pointer;\n",
              "    display: none;\n",
              "    fill: var(--fill-color);\n",
              "    height: 32px;\n",
              "    padding: 0;\n",
              "    width: 32px;\n",
              "  }\n",
              "\n",
              "  .colab-df-quickchart:hover {\n",
              "    background-color: var(--hover-bg-color);\n",
              "    box-shadow: 0 1px 2px rgba(60, 64, 67, 0.3), 0 1px 3px 1px rgba(60, 64, 67, 0.15);\n",
              "    fill: var(--button-hover-fill-color);\n",
              "  }\n",
              "\n",
              "  .colab-df-quickchart-complete:disabled,\n",
              "  .colab-df-quickchart-complete:disabled:hover {\n",
              "    background-color: var(--disabled-bg-color);\n",
              "    fill: var(--disabled-fill-color);\n",
              "    box-shadow: none;\n",
              "  }\n",
              "\n",
              "  .colab-df-spinner {\n",
              "    border: 2px solid var(--fill-color);\n",
              "    border-color: transparent;\n",
              "    border-bottom-color: var(--fill-color);\n",
              "    animation:\n",
              "      spin 1s steps(1) infinite;\n",
              "  }\n",
              "\n",
              "  @keyframes spin {\n",
              "    0% {\n",
              "      border-color: transparent;\n",
              "      border-bottom-color: var(--fill-color);\n",
              "      border-left-color: var(--fill-color);\n",
              "    }\n",
              "    20% {\n",
              "      border-color: transparent;\n",
              "      border-left-color: var(--fill-color);\n",
              "      border-top-color: var(--fill-color);\n",
              "    }\n",
              "    30% {\n",
              "      border-color: transparent;\n",
              "      border-left-color: var(--fill-color);\n",
              "      border-top-color: var(--fill-color);\n",
              "      border-right-color: var(--fill-color);\n",
              "    }\n",
              "    40% {\n",
              "      border-color: transparent;\n",
              "      border-right-color: var(--fill-color);\n",
              "      border-top-color: var(--fill-color);\n",
              "    }\n",
              "    60% {\n",
              "      border-color: transparent;\n",
              "      border-right-color: var(--fill-color);\n",
              "    }\n",
              "    80% {\n",
              "      border-color: transparent;\n",
              "      border-right-color: var(--fill-color);\n",
              "      border-bottom-color: var(--fill-color);\n",
              "    }\n",
              "    90% {\n",
              "      border-color: transparent;\n",
              "      border-bottom-color: var(--fill-color);\n",
              "    }\n",
              "  }\n",
              "</style>\n",
              "\n",
              "  <script>\n",
              "    async function quickchart(key) {\n",
              "      const quickchartButtonEl =\n",
              "        document.querySelector('#' + key + ' button');\n",
              "      quickchartButtonEl.disabled = true;  // To prevent multiple clicks.\n",
              "      quickchartButtonEl.classList.add('colab-df-spinner');\n",
              "      try {\n",
              "        const charts = await google.colab.kernel.invokeFunction(\n",
              "            'suggestCharts', [key], {});\n",
              "      } catch (error) {\n",
              "        console.error('Error during call to suggestCharts:', error);\n",
              "      }\n",
              "      quickchartButtonEl.classList.remove('colab-df-spinner');\n",
              "      quickchartButtonEl.classList.add('colab-df-quickchart-complete');\n",
              "    }\n",
              "    (() => {\n",
              "      let quickchartButtonEl =\n",
              "        document.querySelector('#df-72a26c56-7fee-40f9-bb0a-8a49b5301bd1 button');\n",
              "      quickchartButtonEl.style.display =\n",
              "        google.colab.kernel.accessAllowed ? 'block' : 'none';\n",
              "    })();\n",
              "  </script>\n",
              "</div>\n",
              "    </div>\n",
              "  </div>\n"
            ],
            "application/vnd.google.colaboratory.intrinsic+json": {
              "type": "dataframe",
              "variable_name": "reviews"
            }
          },
          "metadata": {},
          "execution_count": 44
        }
      ],
      "source": [
        "reviews.head()"
      ]
    },
    {
      "cell_type": "code",
      "execution_count": 45,
      "metadata": {
        "colab": {
          "base_uri": "https://localhost:8080/"
        },
        "id": "JMIH3CRV3fy4",
        "outputId": "f10993f8-ace8-471e-c61f-473e387803ca"
      },
      "outputs": [
        {
          "output_type": "stream",
          "name": "stdout",
          "text": [
            "Index(['author_id', 'rating', 'is_recommended', 'helpfulness',\n",
            "       'total_feedback_count', 'total_neg_feedback_count',\n",
            "       'total_pos_feedback_count', 'submission_time', 'review_text',\n",
            "       'review_title', 'skin_tone', 'eye_color', 'skin_type', 'hair_color',\n",
            "       'product_id', 'product_name', 'brand_name', 'price_usd', 'sentiment'],\n",
            "      dtype='object')\n"
          ]
        }
      ],
      "source": [
        "print(reviews.columns)"
      ]
    },
    {
      "cell_type": "code",
      "execution_count": 46,
      "metadata": {
        "colab": {
          "base_uri": "https://localhost:8080/"
        },
        "id": "vd6bO-mh3l-F",
        "outputId": "fde1dd2f-dae1-46d8-fac8-3a8aa98ff144"
      },
      "outputs": [
        {
          "output_type": "stream",
          "name": "stdout",
          "text": [
            "Final cleaned reviews data saved to: /content/drive/MyDrive/INFOSYS723/Project/finalcleaned_reviews1.csv\n"
          ]
        }
      ],
      "source": [
        "# Assuming 'reviews' is your DataFrame containing the cleaned reviews data\n",
        "\n",
        "# Specify the file path for the CSV file\n",
        "finalcleaned_reviews_path = '/content/drive/MyDrive/INFOSYS723/Project/finalcleaned_reviews1.csv'\n",
        "\n",
        "# Save the DataFrame to a CSV file\n",
        "reviews.to_csv(finalcleaned_reviews_path, index=False)\n",
        "\n",
        "print(\"Final cleaned reviews data saved to:\", finalcleaned_reviews_path)\n"
      ]
    },
    {
      "cell_type": "code",
      "execution_count": 50,
      "metadata": {
        "colab": {
          "base_uri": "https://localhost:8080/"
        },
        "id": "JJHALV6z49h-",
        "outputId": "726073ff-4c38-4f95-b3b9-cbe57f9ae987"
      },
      "outputs": [
        {
          "output_type": "stream",
          "name": "stdout",
          "text": [
            "Index(['author_id', 'rating', 'is_recommended', 'helpfulness',\n",
            "       'total_feedback_count', 'total_neg_feedback_count',\n",
            "       'total_pos_feedback_count', 'submission_time', 'review_text',\n",
            "       'review_title', 'skin_tone', 'eye_color', 'skin_type', 'hair_color',\n",
            "       'product_id', 'product_name', 'brand_name', 'price_usd', 'sentiment'],\n",
            "      dtype='object')\n"
          ]
        },
        {
          "output_type": "stream",
          "name": "stderr",
          "text": [
            "<ipython-input-50-dab6e09ffb21>:4: DtypeWarning: Columns (0) have mixed types. Specify dtype option on import or set low_memory=False.\n",
            "  merged_data = pd.read_csv('/content/drive/MyDrive/INFOSYS723/Project/finalcleaned_reviews1.csv', dtype={'index': str})\n"
          ]
        }
      ],
      "source": [
        "import pandas as pd\n",
        "\n",
        "# Load the merged data, specifying the data type for the index column as a string\n",
        "merged_data = pd.read_csv('/content/drive/MyDrive/INFOSYS723/Project/finalcleaned_reviews1.csv', dtype={'index': str})\n",
        "\n",
        "# Display the column names of the DataFrame\n",
        "print(merged_data.columns)\n",
        "\n"
      ]
    },
    {
      "cell_type": "code",
      "source": [
        "import nltk\n",
        "nltk.download('vader_lexicon')\n"
      ],
      "metadata": {
        "colab": {
          "base_uri": "https://localhost:8080/"
        },
        "id": "4_KhP_jV31Mk",
        "outputId": "8d88b0a8-560d-47ad-e7b4-42caef50be5d"
      },
      "execution_count": 48,
      "outputs": [
        {
          "output_type": "stream",
          "name": "stderr",
          "text": [
            "[nltk_data] Downloading package vader_lexicon to /root/nltk_data...\n",
            "[nltk_data]   Package vader_lexicon is already up-to-date!\n"
          ]
        },
        {
          "output_type": "execute_result",
          "data": {
            "text/plain": [
              "True"
            ]
          },
          "metadata": {},
          "execution_count": 48
        }
      ]
    },
    {
      "cell_type": "code",
      "source": [
        "import pandas as pd\n",
        "from sklearn.model_selection import train_test_split\n",
        "from sklearn.ensemble import RandomForestRegressor\n",
        "from sklearn.metrics import mean_squared_error\n",
        "from nltk.sentiment.vader import SentimentIntensityAnalyzer\n",
        "from sklearn.feature_extraction.text import TfidfVectorizer\n",
        "from sklearn.decomposition import LatentDirichletAllocation"
      ],
      "metadata": {
        "id": "Naa2yrlMMfuw"
      },
      "execution_count": 51,
      "outputs": []
    },
    {
      "cell_type": "code",
      "source": [
        "# Load the merged data\n",
        "print(\"Task 1: Loading merged data...\")\n",
        "merged_data = pd.read_csv('/content/drive/MyDrive/INFOSYS723/Project/finalcleaned_reviews1.csv')\n",
        "print(\"Merged data loaded successfully.\")"
      ],
      "metadata": {
        "colab": {
          "base_uri": "https://localhost:8080/"
        },
        "id": "htabDwEgMh9v",
        "outputId": "3cf95c30-9a14-4ff9-9713-f2f7f64cd34a"
      },
      "execution_count": 52,
      "outputs": [
        {
          "output_type": "stream",
          "name": "stdout",
          "text": [
            "Task 1: Loading merged data...\n",
            "Merged data loaded successfully.\n"
          ]
        },
        {
          "output_type": "stream",
          "name": "stderr",
          "text": [
            "<ipython-input-52-769f5570798f>:3: DtypeWarning: Columns (0) have mixed types. Specify dtype option on import or set low_memory=False.\n",
            "  merged_data = pd.read_csv('/content/drive/MyDrive/INFOSYS723/Project/finalcleaned_reviews1.csv')\n"
          ]
        }
      ]
    },
    {
      "cell_type": "code",
      "source": [
        "# Select relevant columns\n",
        "print(\"Task 2: Selecting relevant columns...\")\n",
        "selected_columns = ['rating', 'is_recommended', 'helpfulness', 'total_feedback_count', 'total_neg_feedback_count',\n",
        "                    'total_pos_feedback_count', 'review_text', 'review_title', 'eye_color', 'skin_type', 'hair_color',\n",
        "                    'brand_name', 'price_usd', 'sentiment']\n",
        "merged_data = merged_data[selected_columns]\n",
        "print(\"Relevant columns selected successfully.\")"
      ],
      "metadata": {
        "colab": {
          "base_uri": "https://localhost:8080/"
        },
        "id": "pqbv0-WBMm2W",
        "outputId": "e4a08bab-6da9-4cd1-a435-8d26411937b2"
      },
      "execution_count": 53,
      "outputs": [
        {
          "output_type": "stream",
          "name": "stdout",
          "text": [
            "Task 2: Selecting relevant columns...\n",
            "Relevant columns selected successfully.\n"
          ]
        }
      ]
    },
    {
      "cell_type": "code",
      "source": [
        "# Drop rows with missing values\n",
        "print(\"Task 3: Dropping rows with missing values...\")\n",
        "merged_data.dropna(inplace=True)\n",
        "print(\"Rows with missing values dropped successfully.\")"
      ],
      "metadata": {
        "colab": {
          "base_uri": "https://localhost:8080/"
        },
        "id": "ohpniYc3Mpgg",
        "outputId": "385d0d72-890b-4b40-d2dc-cf4d9a80cde3"
      },
      "execution_count": 54,
      "outputs": [
        {
          "output_type": "stream",
          "name": "stdout",
          "text": [
            "Task 3: Dropping rows with missing values...\n",
            "Rows with missing values dropped successfully.\n"
          ]
        }
      ]
    },
    {
      "cell_type": "code",
      "source": [
        "# Feature engineering: Sentiment Analysis of Reviews\n",
        "print(\"Task 4: Performing sentiment analysis of reviews...\")\n",
        "sid = SentimentIntensityAnalyzer()\n",
        "merged_data['review_sentiment'] = merged_data['review_text'].apply(lambda x: sid.polarity_scores(x)['compound'])\n",
        "print(\"Sentiment analysis of reviews completed successfully.\")"
      ],
      "metadata": {
        "colab": {
          "base_uri": "https://localhost:8080/"
        },
        "id": "8GDDbfyvMrc7",
        "outputId": "2ac69d16-5caa-456d-8b3c-8465ef1747e2"
      },
      "execution_count": 55,
      "outputs": [
        {
          "output_type": "stream",
          "name": "stdout",
          "text": [
            "Task 4: Performing sentiment analysis of reviews...\n",
            "Sentiment analysis of reviews completed successfully.\n"
          ]
        }
      ]
    },
    {
      "cell_type": "code",
      "source": [
        "# Feature engineering: Topic Modeling of Reviews\n",
        "print(\"Task 5: Performing topic modeling of reviews...\")\n",
        "vectorizer = TfidfVectorizer(max_features=1000, stop_words='english')\n",
        "tfidf_matrix = vectorizer.fit_transform(merged_data['review_text'])\n",
        "\n",
        "lda = LatentDirichletAllocation(n_components=5, random_state=42)\n",
        "topics = lda.fit_transform(tfidf_matrix)\n",
        "merged_data['topic'] = topics.argmax(axis=1)\n",
        "print(\"Topic modeling of reviews completed successfully.\")"
      ],
      "metadata": {
        "colab": {
          "base_uri": "https://localhost:8080/"
        },
        "id": "YQT4nRt3NP26",
        "outputId": "9366fdf5-d4ed-4bba-c0f1-8d0a8ba9dddf"
      },
      "execution_count": 57,
      "outputs": [
        {
          "output_type": "stream",
          "name": "stdout",
          "text": [
            "Task 5: Performing topic modeling of reviews...\n",
            "Topic modeling of reviews completed successfully.\n"
          ]
        }
      ]
    },
    {
      "cell_type": "code",
      "source": [
        "\n",
        "# Prepare features and target variable\n",
        "print(\"Task 6: Preparing features and target variable...\")\n",
        "X = merged_data.drop(['rating', 'review_text', 'review_title'], axis=1)\n",
        "y = merged_data['rating']\n",
        "print(\"Features and target variable prepared successfully.\")"
      ],
      "metadata": {
        "colab": {
          "base_uri": "https://localhost:8080/"
        },
        "id": "7QSvKL3RPQgU",
        "outputId": "1a00a306-410d-4d70-b5bb-65d5ac4c0fc8"
      },
      "execution_count": 58,
      "outputs": [
        {
          "output_type": "stream",
          "name": "stdout",
          "text": [
            "Task 6: Preparing features and target variable...\n",
            "Features and target variable prepared successfully.\n"
          ]
        }
      ]
    },
    {
      "cell_type": "code",
      "source": [
        "# Split data into training and testing sets\n",
        "print(\"Task 7: Splitting data into training and testing sets...\")\n",
        "X_train, X_test, y_train, y_test = train_test_split(X, y, test_size=0.2, random_state=42)\n",
        "print(\"Data split into training and testing sets successfully.\")"
      ],
      "metadata": {
        "colab": {
          "base_uri": "https://localhost:8080/"
        },
        "id": "WuOtZSTJPRn5",
        "outputId": "29a797cc-505e-427c-d7bb-dff3f2cb421d"
      },
      "execution_count": 64,
      "outputs": [
        {
          "output_type": "stream",
          "name": "stdout",
          "text": [
            "Task 7: Splitting data into training and testing sets...\n",
            "Data split into training and testing sets successfully.\n"
          ]
        }
      ]
    },
    {
      "cell_type": "code",
      "source": [
        "# Apply one-hot encoding to categorical variables\n",
        "print(\"Task 8: Performing one-hot encoding...\")\n",
        "columns_to_encode = ['eye_color', 'skin_type', 'hair_color', 'brand_name', 'sentiment']\n",
        "X_train = pd.get_dummies(X_train, columns=columns_to_encode)\n",
        "X_test = pd.get_dummies(X_test, columns=columns_to_encode)\n",
        "print(\"One-hot encoding completed successfully.\")\n",
        "\n",
        "\n",
        "# Initialize and train the model\n",
        "print(\"Task 9: Initializing and training the model...\")\n",
        "model = RandomForestRegressor(n_estimators=100, max_depth=10, random_state=42)\n",
        "model.fit(X_train, y_train)\n",
        "print(\"Model initialized and trained successfully.\")\n"
      ],
      "metadata": {
        "colab": {
          "base_uri": "https://localhost:8080/"
        },
        "id": "pisvZezKQLa6",
        "outputId": "8ced49de-2fa6-45fd-d11e-20c578bf225c"
      },
      "execution_count": 66,
      "outputs": [
        {
          "output_type": "stream",
          "name": "stdout",
          "text": [
            "Task 8: Performing one-hot encoding...\n",
            "One-hot encoding completed successfully.\n",
            "Task 9: Initializing and training the model...\n",
            "Model initialized and trained successfully.\n"
          ]
        }
      ]
    },
    {
      "cell_type": "code",
      "source": [
        "# Make predictions\n",
        "print(\"Task 9: Making predictions...\")\n",
        "predictions = model.predict(X_test)\n",
        "print(\"Predictions made successfully.\")"
      ],
      "metadata": {
        "colab": {
          "base_uri": "https://localhost:8080/"
        },
        "id": "QQxd7gPbRD-D",
        "outputId": "accf3860-2ed1-45e6-9880-380b74047cae"
      },
      "execution_count": 67,
      "outputs": [
        {
          "output_type": "stream",
          "name": "stdout",
          "text": [
            "Task 9: Making predictions...\n",
            "Predictions made successfully.\n"
          ]
        }
      ]
    },
    {
      "cell_type": "code",
      "source": [
        "# Evaluate model performance\n",
        "print(\"Task 10: Evaluating model performance...\")\n",
        "mse = mean_squared_error(y_test, predictions)\n",
        "print(\"Mean Squared Error:\", mse)\n",
        "print(\"Model performance evaluated successfully.\")"
      ],
      "metadata": {
        "colab": {
          "base_uri": "https://localhost:8080/"
        },
        "id": "RINUbdroRHEj",
        "outputId": "b1d0533a-c771-42cb-b7cb-476ca6968f24"
      },
      "execution_count": 68,
      "outputs": [
        {
          "output_type": "stream",
          "name": "stdout",
          "text": [
            "Task 10: Evaluating model performance...\n",
            "Mean Squared Error: 0.24032854838568504\n",
            "Model performance evaluated successfully.\n"
          ]
        }
      ]
    },
    {
      "cell_type": "code",
      "source": [
        "# Check feature importances\n",
        "print(\"Task 11: Checking feature importances...\")\n",
        "feature_importances = model.feature_importances_\n",
        "print(\"Feature Importances:\", feature_importances)\n",
        "print(\"Feature importances checked successfully.\")"
      ],
      "metadata": {
        "colab": {
          "base_uri": "https://localhost:8080/"
        },
        "id": "_oyMWyIQRL9I",
        "outputId": "5b567cc1-86ef-4b87-b48d-768de792d710"
      },
      "execution_count": 69,
      "outputs": [
        {
          "output_type": "stream",
          "name": "stdout",
          "text": [
            "Task 11: Checking feature importances...\n",
            "Feature Importances: [1.91071195e-02 1.70246347e-03 4.49377538e-03 1.16387714e-03\n",
            " 6.80019952e-04 1.08087886e-03 9.70679230e-03 3.01783921e-03\n",
            " 4.16709690e-05 1.23845130e-04 1.43685134e-04 1.22014911e-05\n",
            " 7.89507771e-05 1.09589440e-04 1.11960299e-04 1.09469265e-04\n",
            " 9.76213407e-05 1.00152956e-04 7.59180580e-05 1.13196643e-04\n",
            " 9.74644784e-05 1.27471093e-04 5.09100560e-05 3.94760043e-05\n",
            " 7.08785641e-05 1.02197476e-05 5.27154273e-05 1.03082976e-05\n",
            " 5.05701806e-05 3.57305865e-05 1.76693532e-05 4.25627058e-05\n",
            " 7.09688206e-05 1.43236829e-06 2.34346493e-05 9.41710980e-05\n",
            " 6.23695846e-05 3.88690952e-05 2.98490862e-07 9.27589988e-05\n",
            " 4.39681355e-05 1.67257934e-05 1.03589561e-04 1.11010501e-05\n",
            " 2.87271339e-05 4.79395675e-05 3.17421811e-06 2.21034060e-05\n",
            " 6.50637797e-06 1.86229525e-05 1.66406840e-05 6.57496162e-05\n",
            " 1.06070124e-04 1.76855629e-05 7.92122163e-06 6.18734084e-05\n",
            " 1.25029336e-05 4.45630445e-05 4.52599992e-05 1.00136989e-05\n",
            " 4.44652896e-05 5.76657504e-05 5.12289998e-05 1.30138714e-05\n",
            " 1.36295592e-05 2.50034430e-05 3.38672805e-05 1.40595904e-04\n",
            " 1.32394136e-05 2.22574140e-04 5.35535043e-05 1.80512120e-04\n",
            " 8.59817224e-05 1.34880356e-04 5.66169107e-05 3.16800242e-05\n",
            " 1.95612816e-04 1.60186702e-05 3.17066919e-05 6.60279929e-05\n",
            " 2.23285818e-05 6.33768275e-05 4.08190887e-05 4.20106406e-01\n",
            " 5.34547150e-01]\n",
            "Feature importances checked successfully.\n"
          ]
        }
      ]
    },
    {
      "cell_type": "code",
      "source": [
        "# Zip the feature importances with the column names\n",
        "feature_importances = zip(X_train.columns, model.feature_importances_)\n",
        "\n",
        "# Sort the features by importance (descending order)\n",
        "sorted_features = sorted(feature_importances, key=lambda x: x[1], reverse=True)\n",
        "\n",
        "# Retrieve the top N most important features\n",
        "top_n = 5  # Specify the number of top features you want to retrieve\n",
        "top_features = sorted_features[:top_n]\n",
        "\n",
        "# Print the top N most important features\n",
        "print(\"Top\", top_n, \"most important features:\")\n",
        "for feature, importance in top_features:\n",
        "    print(feature, \":\", importance)\n"
      ],
      "metadata": {
        "colab": {
          "base_uri": "https://localhost:8080/"
        },
        "id": "LexChQ8LRiwi",
        "outputId": "d0ac695c-4a15-46be-8c65-7acfa69c8aab"
      },
      "execution_count": 70,
      "outputs": [
        {
          "output_type": "stream",
          "name": "stdout",
          "text": [
            "Top 5 most important features:\n",
            "sentiment_positive : 0.5345471497716541\n",
            "sentiment_negative : 0.42010640586878956\n",
            "is_recommended : 0.01910711950059566\n",
            "review_sentiment : 0.009706792297811765\n",
            "total_feedback_count : 0.004493775376440621\n"
          ]
        }
      ]
    },
    {
      "cell_type": "code",
      "source": [
        "import numpy as np\n",
        "import seaborn as sns\n",
        "\n",
        "# Define feature names and their corresponding importances\n",
        "feature_names = ['is_recommended', 'helpfulness', 'total_feedback_count', 'sentiment_positive',\n",
        "                 'sentiment_negative', 'eye_color_blue', 'eye_color_brown', 'skin_type_dry',\n",
        "                 'skin_type_normal', 'hair_color_blonde', 'brand_name_brand1', 'brand_name_brand2']\n",
        "\n",
        "importances = [0.019107, 0.001702, 0.004494, 0.534547, 0.420106, 0.003, 0.002, 0.005,\n",
        "               0.01, 0.015, 0.03, 0.025]\n",
        "\n",
        "# Create a matrix of feature importances\n",
        "importance_matrix = np.array(importances).reshape(1, -1)\n",
        "\n",
        "# Create a heatmap\n",
        "plt.figure(figsize=(10, 6))\n",
        "sns.heatmap(importance_matrix, annot=True, cmap='viridis', xticklabels=feature_names, yticklabels=False)\n",
        "plt.title('Feature Importances')\n",
        "plt.xlabel('Features')\n",
        "plt.ylabel('Importance')\n",
        "plt.xticks(rotation=45)\n",
        "plt.show()\n"
      ],
      "metadata": {
        "colab": {
          "base_uri": "https://localhost:8080/",
          "height": 666
        },
        "id": "3pVIK9wDWJOt",
        "outputId": "e16c26dc-ff16-4a97-cac3-6c657a012584"
      },
      "execution_count": 72,
      "outputs": [
        {
          "output_type": "display_data",
          "data": {
            "text/plain": [
              "<Figure size 1000x600 with 2 Axes>"
            ],
            "image/png": "[encoded data removed]"
          },
          "metadata": {}
        }
      ]
    }
  ],
  "metadata": {
    "colab": {
      "provenance": []
    },
    "kernelspec": {
      "display_name": "Python 3",
      "name": "python3"
    },
    "language_info": {
      "name": "python"
    }
  },
  "nbformat": 4,
  "nbformat_minor": 0
}